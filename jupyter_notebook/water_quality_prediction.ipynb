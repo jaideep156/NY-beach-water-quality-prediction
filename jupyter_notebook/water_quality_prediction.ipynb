{
 "cells": [
  {
   "cell_type": "code",
   "execution_count": 3,
   "metadata": {},
   "outputs": [],
   "source": [
    "import pandas as pd\n",
    "from sodapy import Socrata\n",
    "import numpy as np\n",
    "from category_encoders import TargetEncoder\n",
    "from sklearn.model_selection import train_test_split\n",
    "from sklearn.impute import SimpleImputer\n",
    "from sklearn.preprocessing import OneHotEncoder\n",
    "from sklearn.ensemble import RandomForestRegressor\n",
    "from sklearn.metrics import mean_absolute_error\n",
    "from sklearn.metrics import mean_squared_error\n",
    "from sklearn.metrics import r2_score\n",
    "import warnings\n",
    "warnings.filterwarnings(\"ignore\", category=DeprecationWarning)"
   ]
  },
  {
   "cell_type": "code",
   "execution_count": 4,
   "metadata": {},
   "outputs": [],
   "source": [
    "def fetch_data(MyAppToken,username,password):\n",
    "    MyAppToken = MyAppToken\n",
    "    try:\n",
    "        client = Socrata('data.cityofnewyork.us', MyAppToken, username=username, password=password)\n",
    "        results = client.get_all(\"2xir-kwzz\")\n",
    "        df = pd.DataFrame.from_records(results)\n",
    "        print(\"Data fetched successfully from API.\")\n",
    "        return df\n",
    "    except Exception as e:\n",
    "        print(str(e))\n",
    "        print(\"Unable to fetch from API, loading from pre-existing dataset.\")\n",
    "        try:\n",
    "            df = pd.read_csv('Beach_Water_Samples_20240210.csv')\n",
    "            return df\n",
    "        except FileNotFoundError:\n",
    "            print(\"Dataset file not found.\")\n",
    "    return df"
   ]
  },
  {
   "cell_type": "code",
   "execution_count": 5,
   "metadata": {},
   "outputs": [
    {
     "name": "stdout",
     "output_type": "stream",
     "text": [
      "Data fetched successfully from API.\n"
     ]
    }
   ],
   "source": [
    "df = fetch_data('YOUR-APP-TOKEN','name@example.com', 'FakePassword')"
   ]
  },
  {
   "cell_type": "code",
   "execution_count": 6,
   "metadata": {},
   "outputs": [
    {
     "data": {
      "text/html": [
       "<div>\n",
       "<style scoped>\n",
       "    .dataframe tbody tr th:only-of-type {\n",
       "        vertical-align: middle;\n",
       "    }\n",
       "\n",
       "    .dataframe tbody tr th {\n",
       "        vertical-align: top;\n",
       "    }\n",
       "\n",
       "    .dataframe thead th {\n",
       "        text-align: right;\n",
       "    }\n",
       "</style>\n",
       "<table border=\"1\" class=\"dataframe\">\n",
       "  <thead>\n",
       "    <tr style=\"text-align: right;\">\n",
       "      <th></th>\n",
       "      <th>sample_id</th>\n",
       "      <th>sample_date</th>\n",
       "      <th>beach_name</th>\n",
       "      <th>sample_location</th>\n",
       "      <th>enterococci_results</th>\n",
       "      <th>units_or_notes</th>\n",
       "    </tr>\n",
       "  </thead>\n",
       "  <tbody>\n",
       "    <tr>\n",
       "      <th>0</th>\n",
       "      <td>JB2309201015-1.1</td>\n",
       "      <td>2023-09-20T00:00:00.000</td>\n",
       "      <td>WEST FORDHAM STREET ASSOCIATION</td>\n",
       "      <td>Left</td>\n",
       "      <td>9.9</td>\n",
       "      <td>MPN/100 ml</td>\n",
       "    </tr>\n",
       "    <tr>\n",
       "      <th>1</th>\n",
       "      <td>JB2309201015-1.2</td>\n",
       "      <td>2023-09-20T00:00:00.000</td>\n",
       "      <td>WEST FORDHAM STREET ASSOCIATION</td>\n",
       "      <td>Center</td>\n",
       "      <td>10</td>\n",
       "      <td>MPN/100 ml</td>\n",
       "    </tr>\n",
       "    <tr>\n",
       "      <th>2</th>\n",
       "      <td>JB2309201015-1.3</td>\n",
       "      <td>2023-09-20T00:00:00.000</td>\n",
       "      <td>WEST FORDHAM STREET ASSOCIATION</td>\n",
       "      <td>Right</td>\n",
       "      <td>10</td>\n",
       "      <td>MPN/100 ml</td>\n",
       "    </tr>\n",
       "    <tr>\n",
       "      <th>3</th>\n",
       "      <td>JB2309131035-1.2</td>\n",
       "      <td>2023-09-13T00:00:00.000</td>\n",
       "      <td>WEST FORDHAM STREET ASSOCIATION</td>\n",
       "      <td>Center</td>\n",
       "      <td>74</td>\n",
       "      <td>MPN/100 ml</td>\n",
       "    </tr>\n",
       "    <tr>\n",
       "      <th>4</th>\n",
       "      <td>JB2309131100-1.2</td>\n",
       "      <td>2023-09-13T00:00:00.000</td>\n",
       "      <td>MORRIS YACHT AND BEACH CLUB</td>\n",
       "      <td>Center</td>\n",
       "      <td>158</td>\n",
       "      <td>MPN/100 ml</td>\n",
       "    </tr>\n",
       "    <tr>\n",
       "      <th>...</th>\n",
       "      <td>...</td>\n",
       "      <td>...</td>\n",
       "      <td>...</td>\n",
       "      <td>...</td>\n",
       "      <td>...</td>\n",
       "      <td>...</td>\n",
       "    </tr>\n",
       "    <tr>\n",
       "      <th>26994</th>\n",
       "      <td>050205LA13</td>\n",
       "      <td>2005-05-02T00:00:00.000</td>\n",
       "      <td>SEAGATE BEACH - 42ND STREET</td>\n",
       "      <td>Left</td>\n",
       "      <td>31.00</td>\n",
       "      <td>MPN/100 ml</td>\n",
       "    </tr>\n",
       "    <tr>\n",
       "      <th>26995</th>\n",
       "      <td>050205BH09</td>\n",
       "      <td>2005-05-02T00:00:00.000</td>\n",
       "      <td>SOUTH BEACH</td>\n",
       "      <td>Right</td>\n",
       "      <td>9.90</td>\n",
       "      <td>MPN/100 ml</td>\n",
       "    </tr>\n",
       "    <tr>\n",
       "      <th>26996</th>\n",
       "      <td>050205LA08</td>\n",
       "      <td>2005-05-02T00:00:00.000</td>\n",
       "      <td>KINGSBOROUGH COMMUNITY COLLEGE</td>\n",
       "      <td>Center</td>\n",
       "      <td>31.00</td>\n",
       "      <td>MPN/100 ml</td>\n",
       "    </tr>\n",
       "    <tr>\n",
       "      <th>26997</th>\n",
       "      <td>050205BH11</td>\n",
       "      <td>2005-05-02T00:00:00.000</td>\n",
       "      <td>CONEY ISLAND WEST 16TH - WEST 27TH</td>\n",
       "      <td>Center</td>\n",
       "      <td>9.90</td>\n",
       "      <td>MPN/100 ml</td>\n",
       "    </tr>\n",
       "    <tr>\n",
       "      <th>26998</th>\n",
       "      <td>050205LA01</td>\n",
       "      <td>2005-05-02T00:00:00.000</td>\n",
       "      <td>CONEY ISLAND OCEAN PKWY - WEST 8TH</td>\n",
       "      <td>Center</td>\n",
       "      <td>9.90</td>\n",
       "      <td>MPN/100 ml</td>\n",
       "    </tr>\n",
       "  </tbody>\n",
       "</table>\n",
       "<p>26999 rows × 6 columns</p>\n",
       "</div>"
      ],
      "text/plain": [
       "              sample_id              sample_date  \\\n",
       "0      JB2309201015-1.1  2023-09-20T00:00:00.000   \n",
       "1      JB2309201015-1.2  2023-09-20T00:00:00.000   \n",
       "2      JB2309201015-1.3  2023-09-20T00:00:00.000   \n",
       "3      JB2309131035-1.2  2023-09-13T00:00:00.000   \n",
       "4      JB2309131100-1.2  2023-09-13T00:00:00.000   \n",
       "...                 ...                      ...   \n",
       "26994        050205LA13  2005-05-02T00:00:00.000   \n",
       "26995        050205BH09  2005-05-02T00:00:00.000   \n",
       "26996        050205LA08  2005-05-02T00:00:00.000   \n",
       "26997        050205BH11  2005-05-02T00:00:00.000   \n",
       "26998        050205LA01  2005-05-02T00:00:00.000   \n",
       "\n",
       "                               beach_name sample_location enterococci_results  \\\n",
       "0         WEST FORDHAM STREET ASSOCIATION            Left                 9.9   \n",
       "1         WEST FORDHAM STREET ASSOCIATION          Center                  10   \n",
       "2         WEST FORDHAM STREET ASSOCIATION           Right                  10   \n",
       "3         WEST FORDHAM STREET ASSOCIATION          Center                  74   \n",
       "4             MORRIS YACHT AND BEACH CLUB          Center                 158   \n",
       "...                                   ...             ...                 ...   \n",
       "26994         SEAGATE BEACH - 42ND STREET            Left               31.00   \n",
       "26995                         SOUTH BEACH           Right                9.90   \n",
       "26996      KINGSBOROUGH COMMUNITY COLLEGE          Center               31.00   \n",
       "26997  CONEY ISLAND WEST 16TH - WEST 27TH          Center                9.90   \n",
       "26998  CONEY ISLAND OCEAN PKWY - WEST 8TH          Center                9.90   \n",
       "\n",
       "      units_or_notes  \n",
       "0         MPN/100 ml  \n",
       "1         MPN/100 ml  \n",
       "2         MPN/100 ml  \n",
       "3         MPN/100 ml  \n",
       "4         MPN/100 ml  \n",
       "...              ...  \n",
       "26994     MPN/100 ml  \n",
       "26995     MPN/100 ml  \n",
       "26996     MPN/100 ml  \n",
       "26997     MPN/100 ml  \n",
       "26998     MPN/100 ml  \n",
       "\n",
       "[26999 rows x 6 columns]"
      ]
     },
     "execution_count": 6,
     "metadata": {},
     "output_type": "execute_result"
    }
   ],
   "source": [
    "df"
   ]
  },
  {
   "cell_type": "code",
   "execution_count": 7,
   "metadata": {},
   "outputs": [
    {
     "data": {
      "text/plain": [
       "sample_id              object\n",
       "sample_date            object\n",
       "beach_name             object\n",
       "sample_location        object\n",
       "enterococci_results    object\n",
       "units_or_notes         object\n",
       "dtype: object"
      ]
     },
     "execution_count": 7,
     "metadata": {},
     "output_type": "execute_result"
    }
   ],
   "source": [
    "df.dtypes"
   ]
  },
  {
   "cell_type": "code",
   "execution_count": 8,
   "metadata": {},
   "outputs": [
    {
     "data": {
      "text/plain": [
       "sample_id                 0\n",
       "sample_date               0\n",
       "beach_name                0\n",
       "sample_location          37\n",
       "enterococci_results    7445\n",
       "units_or_notes            0\n",
       "dtype: int64"
      ]
     },
     "execution_count": 8,
     "metadata": {},
     "output_type": "execute_result"
    }
   ],
   "source": [
    "df.isnull().sum()"
   ]
  },
  {
   "cell_type": "code",
   "execution_count": 9,
   "metadata": {},
   "outputs": [],
   "source": [
    "df.drop(columns=['sample_id', 'units_or_notes','sample_date'], inplace=True)#Removing irrelevant columns\n",
    "\n",
    "df['enterococci_results'] = df['enterococci_results'].astype(float) # object to float \n",
    "df.rename(columns={'enterococci_results': 'enterococci_results(MPN/100 ml)'}, inplace=True)#renaming the column\n",
    "\n",
    "#If anything apart from Center, Left or Right in sample_location, replace it with a blank (NaN) value\n",
    "df['sample_location'] = df['sample_location'].apply(lambda x: x if x in ['Center', 'Left', 'Right'] else np.nan)\n",
    "\n",
    "#Replacing missing values in sample_location with most frequent observation - \"Center\"\n",
    "imputer = SimpleImputer(strategy='most_frequent') \n",
    "df['sample_location'] = imputer.fit_transform(df[['sample_location']])"
   ]
  },
  {
   "cell_type": "code",
   "execution_count": 10,
   "metadata": {},
   "outputs": [
    {
     "data": {
      "text/plain": [
       "beach_name                            0\n",
       "sample_location                      38\n",
       "enterococci_results(MPN/100 ml)    7445\n",
       "dtype: int64"
      ]
     },
     "execution_count": 10,
     "metadata": {},
     "output_type": "execute_result"
    }
   ],
   "source": [
    "df.isnull().sum()"
   ]
  },
  {
   "cell_type": "code",
   "execution_count": 11,
   "metadata": {},
   "outputs": [
    {
     "data": {
      "text/html": [
       "<div>\n",
       "<style scoped>\n",
       "    .dataframe tbody tr th:only-of-type {\n",
       "        vertical-align: middle;\n",
       "    }\n",
       "\n",
       "    .dataframe tbody tr th {\n",
       "        vertical-align: top;\n",
       "    }\n",
       "\n",
       "    .dataframe thead th {\n",
       "        text-align: right;\n",
       "    }\n",
       "</style>\n",
       "<table border=\"1\" class=\"dataframe\">\n",
       "  <thead>\n",
       "    <tr style=\"text-align: right;\">\n",
       "      <th></th>\n",
       "      <th>beach_name</th>\n",
       "      <th>sample_location</th>\n",
       "      <th>enterococci_results(MPN/100 ml)</th>\n",
       "    </tr>\n",
       "  </thead>\n",
       "  <tbody>\n",
       "    <tr>\n",
       "      <th>0</th>\n",
       "      <td>WEST FORDHAM STREET ASSOCIATION</td>\n",
       "      <td>Left</td>\n",
       "      <td>9.9</td>\n",
       "    </tr>\n",
       "    <tr>\n",
       "      <th>1</th>\n",
       "      <td>WEST FORDHAM STREET ASSOCIATION</td>\n",
       "      <td>Center</td>\n",
       "      <td>10.0</td>\n",
       "    </tr>\n",
       "    <tr>\n",
       "      <th>2</th>\n",
       "      <td>WEST FORDHAM STREET ASSOCIATION</td>\n",
       "      <td>Right</td>\n",
       "      <td>10.0</td>\n",
       "    </tr>\n",
       "    <tr>\n",
       "      <th>3</th>\n",
       "      <td>WEST FORDHAM STREET ASSOCIATION</td>\n",
       "      <td>Center</td>\n",
       "      <td>74.0</td>\n",
       "    </tr>\n",
       "    <tr>\n",
       "      <th>4</th>\n",
       "      <td>MORRIS YACHT AND BEACH CLUB</td>\n",
       "      <td>Center</td>\n",
       "      <td>158.0</td>\n",
       "    </tr>\n",
       "    <tr>\n",
       "      <th>...</th>\n",
       "      <td>...</td>\n",
       "      <td>...</td>\n",
       "      <td>...</td>\n",
       "    </tr>\n",
       "    <tr>\n",
       "      <th>26994</th>\n",
       "      <td>SEAGATE BEACH - 42ND STREET</td>\n",
       "      <td>Left</td>\n",
       "      <td>31.0</td>\n",
       "    </tr>\n",
       "    <tr>\n",
       "      <th>26995</th>\n",
       "      <td>SOUTH BEACH</td>\n",
       "      <td>Right</td>\n",
       "      <td>9.9</td>\n",
       "    </tr>\n",
       "    <tr>\n",
       "      <th>26996</th>\n",
       "      <td>KINGSBOROUGH COMMUNITY COLLEGE</td>\n",
       "      <td>Center</td>\n",
       "      <td>31.0</td>\n",
       "    </tr>\n",
       "    <tr>\n",
       "      <th>26997</th>\n",
       "      <td>CONEY ISLAND WEST 16TH - WEST 27TH</td>\n",
       "      <td>Center</td>\n",
       "      <td>9.9</td>\n",
       "    </tr>\n",
       "    <tr>\n",
       "      <th>26998</th>\n",
       "      <td>CONEY ISLAND OCEAN PKWY - WEST 8TH</td>\n",
       "      <td>Center</td>\n",
       "      <td>9.9</td>\n",
       "    </tr>\n",
       "  </tbody>\n",
       "</table>\n",
       "<p>26999 rows × 3 columns</p>\n",
       "</div>"
      ],
      "text/plain": [
       "                               beach_name sample_location  \\\n",
       "0         WEST FORDHAM STREET ASSOCIATION            Left   \n",
       "1         WEST FORDHAM STREET ASSOCIATION          Center   \n",
       "2         WEST FORDHAM STREET ASSOCIATION           Right   \n",
       "3         WEST FORDHAM STREET ASSOCIATION          Center   \n",
       "4             MORRIS YACHT AND BEACH CLUB          Center   \n",
       "...                                   ...             ...   \n",
       "26994         SEAGATE BEACH - 42ND STREET            Left   \n",
       "26995                         SOUTH BEACH           Right   \n",
       "26996      KINGSBOROUGH COMMUNITY COLLEGE          Center   \n",
       "26997  CONEY ISLAND WEST 16TH - WEST 27TH          Center   \n",
       "26998  CONEY ISLAND OCEAN PKWY - WEST 8TH          Center   \n",
       "\n",
       "       enterococci_results(MPN/100 ml)  \n",
       "0                                  9.9  \n",
       "1                                 10.0  \n",
       "2                                 10.0  \n",
       "3                                 74.0  \n",
       "4                                158.0  \n",
       "...                                ...  \n",
       "26994                             31.0  \n",
       "26995                              9.9  \n",
       "26996                             31.0  \n",
       "26997                              9.9  \n",
       "26998                              9.9  \n",
       "\n",
       "[26999 rows x 3 columns]"
      ]
     },
     "execution_count": 11,
     "metadata": {},
     "output_type": "execute_result"
    }
   ],
   "source": [
    "df"
   ]
  },
  {
   "cell_type": "code",
   "execution_count": 12,
   "metadata": {},
   "outputs": [],
   "source": [
    "location_encoder = OneHotEncoder(sparse=False, drop='first', handle_unknown='ignore')\n",
    "encoded_df = pd.DataFrame(location_encoder.fit_transform(df[['sample_location']]))\n",
    "\n",
    "encoded_df.columns = ['sample_location_Left', 'sample_location_Center']\n",
    "\n",
    "df.drop('sample_location', axis=1, inplace=True)\n",
    "\n",
    "df = pd.concat([df, encoded_df], axis=1)\n",
    "\n",
    "df = df.astype({'sample_location_Left': int, 'sample_location_Center': int})"
   ]
  },
  {
   "cell_type": "code",
   "execution_count": 13,
   "metadata": {},
   "outputs": [
    {
     "data": {
      "text/html": [
       "<div>\n",
       "<style scoped>\n",
       "    .dataframe tbody tr th:only-of-type {\n",
       "        vertical-align: middle;\n",
       "    }\n",
       "\n",
       "    .dataframe tbody tr th {\n",
       "        vertical-align: top;\n",
       "    }\n",
       "\n",
       "    .dataframe thead th {\n",
       "        text-align: right;\n",
       "    }\n",
       "</style>\n",
       "<table border=\"1\" class=\"dataframe\">\n",
       "  <thead>\n",
       "    <tr style=\"text-align: right;\">\n",
       "      <th></th>\n",
       "      <th>beach_name</th>\n",
       "      <th>enterococci_results(MPN/100 ml)</th>\n",
       "      <th>sample_location_Left</th>\n",
       "      <th>sample_location_Center</th>\n",
       "    </tr>\n",
       "  </thead>\n",
       "  <tbody>\n",
       "    <tr>\n",
       "      <th>0</th>\n",
       "      <td>WEST FORDHAM STREET ASSOCIATION</td>\n",
       "      <td>9.9</td>\n",
       "      <td>1</td>\n",
       "      <td>0</td>\n",
       "    </tr>\n",
       "    <tr>\n",
       "      <th>1</th>\n",
       "      <td>WEST FORDHAM STREET ASSOCIATION</td>\n",
       "      <td>10.0</td>\n",
       "      <td>0</td>\n",
       "      <td>0</td>\n",
       "    </tr>\n",
       "    <tr>\n",
       "      <th>2</th>\n",
       "      <td>WEST FORDHAM STREET ASSOCIATION</td>\n",
       "      <td>10.0</td>\n",
       "      <td>0</td>\n",
       "      <td>1</td>\n",
       "    </tr>\n",
       "    <tr>\n",
       "      <th>3</th>\n",
       "      <td>WEST FORDHAM STREET ASSOCIATION</td>\n",
       "      <td>74.0</td>\n",
       "      <td>0</td>\n",
       "      <td>0</td>\n",
       "    </tr>\n",
       "    <tr>\n",
       "      <th>4</th>\n",
       "      <td>MORRIS YACHT AND BEACH CLUB</td>\n",
       "      <td>158.0</td>\n",
       "      <td>0</td>\n",
       "      <td>0</td>\n",
       "    </tr>\n",
       "    <tr>\n",
       "      <th>...</th>\n",
       "      <td>...</td>\n",
       "      <td>...</td>\n",
       "      <td>...</td>\n",
       "      <td>...</td>\n",
       "    </tr>\n",
       "    <tr>\n",
       "      <th>26994</th>\n",
       "      <td>SEAGATE BEACH - 42ND STREET</td>\n",
       "      <td>31.0</td>\n",
       "      <td>1</td>\n",
       "      <td>0</td>\n",
       "    </tr>\n",
       "    <tr>\n",
       "      <th>26995</th>\n",
       "      <td>SOUTH BEACH</td>\n",
       "      <td>9.9</td>\n",
       "      <td>0</td>\n",
       "      <td>1</td>\n",
       "    </tr>\n",
       "    <tr>\n",
       "      <th>26996</th>\n",
       "      <td>KINGSBOROUGH COMMUNITY COLLEGE</td>\n",
       "      <td>31.0</td>\n",
       "      <td>0</td>\n",
       "      <td>0</td>\n",
       "    </tr>\n",
       "    <tr>\n",
       "      <th>26997</th>\n",
       "      <td>CONEY ISLAND WEST 16TH - WEST 27TH</td>\n",
       "      <td>9.9</td>\n",
       "      <td>0</td>\n",
       "      <td>0</td>\n",
       "    </tr>\n",
       "    <tr>\n",
       "      <th>26998</th>\n",
       "      <td>CONEY ISLAND OCEAN PKWY - WEST 8TH</td>\n",
       "      <td>9.9</td>\n",
       "      <td>0</td>\n",
       "      <td>0</td>\n",
       "    </tr>\n",
       "  </tbody>\n",
       "</table>\n",
       "<p>26999 rows × 4 columns</p>\n",
       "</div>"
      ],
      "text/plain": [
       "                               beach_name  enterococci_results(MPN/100 ml)  \\\n",
       "0         WEST FORDHAM STREET ASSOCIATION                              9.9   \n",
       "1         WEST FORDHAM STREET ASSOCIATION                             10.0   \n",
       "2         WEST FORDHAM STREET ASSOCIATION                             10.0   \n",
       "3         WEST FORDHAM STREET ASSOCIATION                             74.0   \n",
       "4             MORRIS YACHT AND BEACH CLUB                            158.0   \n",
       "...                                   ...                              ...   \n",
       "26994         SEAGATE BEACH - 42ND STREET                             31.0   \n",
       "26995                         SOUTH BEACH                              9.9   \n",
       "26996      KINGSBOROUGH COMMUNITY COLLEGE                             31.0   \n",
       "26997  CONEY ISLAND WEST 16TH - WEST 27TH                              9.9   \n",
       "26998  CONEY ISLAND OCEAN PKWY - WEST 8TH                              9.9   \n",
       "\n",
       "       sample_location_Left  sample_location_Center  \n",
       "0                         1                       0  \n",
       "1                         0                       0  \n",
       "2                         0                       1  \n",
       "3                         0                       0  \n",
       "4                         0                       0  \n",
       "...                     ...                     ...  \n",
       "26994                     1                       0  \n",
       "26995                     0                       1  \n",
       "26996                     0                       0  \n",
       "26997                     0                       0  \n",
       "26998                     0                       0  \n",
       "\n",
       "[26999 rows x 4 columns]"
      ]
     },
     "execution_count": 13,
     "metadata": {},
     "output_type": "execute_result"
    }
   ],
   "source": [
    "df"
   ]
  },
  {
   "cell_type": "code",
   "execution_count": 14,
   "metadata": {},
   "outputs": [],
   "source": [
    "df['beach_name_encoded'] = TargetEncoder(cols=['beach_name']).fit_transform(df['beach_name'], df['enterococci_results(MPN/100 ml)'])"
   ]
  },
  {
   "cell_type": "code",
   "execution_count": 15,
   "metadata": {},
   "outputs": [],
   "source": [
    "df = df[['beach_name_encoded','sample_location_Left','sample_location_Center', 'enterococci_results(MPN/100 ml)']]"
   ]
  },
  {
   "cell_type": "code",
   "execution_count": 16,
   "metadata": {},
   "outputs": [
    {
     "data": {
      "text/plain": [
       "beach_name_encoded                 float64\n",
       "sample_location_Left                 int32\n",
       "sample_location_Center               int32\n",
       "enterococci_results(MPN/100 ml)    float64\n",
       "dtype: object"
      ]
     },
     "execution_count": 16,
     "metadata": {},
     "output_type": "execute_result"
    }
   ],
   "source": [
    "df.dtypes"
   ]
  },
  {
   "cell_type": "code",
   "execution_count": 17,
   "metadata": {},
   "outputs": [
    {
     "data": {
      "text/plain": [
       "beach_name_encoded                    0\n",
       "sample_location_Left                  0\n",
       "sample_location_Center                0\n",
       "enterococci_results(MPN/100 ml)    7445\n",
       "dtype: int64"
      ]
     },
     "execution_count": 17,
     "metadata": {},
     "output_type": "execute_result"
    }
   ],
   "source": [
    "df.isnull().sum()"
   ]
  },
  {
   "cell_type": "code",
   "execution_count": 19,
   "metadata": {},
   "outputs": [],
   "source": [
    "df = df.dropna()"
   ]
  },
  {
   "cell_type": "code",
   "execution_count": 20,
   "metadata": {},
   "outputs": [
    {
     "data": {
      "text/html": [
       "<div>\n",
       "<style scoped>\n",
       "    .dataframe tbody tr th:only-of-type {\n",
       "        vertical-align: middle;\n",
       "    }\n",
       "\n",
       "    .dataframe tbody tr th {\n",
       "        vertical-align: top;\n",
       "    }\n",
       "\n",
       "    .dataframe thead th {\n",
       "        text-align: right;\n",
       "    }\n",
       "</style>\n",
       "<table border=\"1\" class=\"dataframe\">\n",
       "  <thead>\n",
       "    <tr style=\"text-align: right;\">\n",
       "      <th></th>\n",
       "      <th>beach_name_encoded</th>\n",
       "      <th>sample_location_Left</th>\n",
       "      <th>sample_location_Center</th>\n",
       "      <th>enterococci_results(MPN/100 ml)</th>\n",
       "    </tr>\n",
       "  </thead>\n",
       "  <tbody>\n",
       "    <tr>\n",
       "      <th>0</th>\n",
       "      <td>71.724390</td>\n",
       "      <td>1</td>\n",
       "      <td>0</td>\n",
       "      <td>9.9</td>\n",
       "    </tr>\n",
       "    <tr>\n",
       "      <th>1</th>\n",
       "      <td>71.724390</td>\n",
       "      <td>0</td>\n",
       "      <td>0</td>\n",
       "      <td>10.0</td>\n",
       "    </tr>\n",
       "    <tr>\n",
       "      <th>2</th>\n",
       "      <td>71.724390</td>\n",
       "      <td>0</td>\n",
       "      <td>1</td>\n",
       "      <td>10.0</td>\n",
       "    </tr>\n",
       "    <tr>\n",
       "      <th>3</th>\n",
       "      <td>71.724390</td>\n",
       "      <td>0</td>\n",
       "      <td>0</td>\n",
       "      <td>74.0</td>\n",
       "    </tr>\n",
       "    <tr>\n",
       "      <th>4</th>\n",
       "      <td>120.912515</td>\n",
       "      <td>0</td>\n",
       "      <td>0</td>\n",
       "      <td>158.0</td>\n",
       "    </tr>\n",
       "    <tr>\n",
       "      <th>...</th>\n",
       "      <td>...</td>\n",
       "      <td>...</td>\n",
       "      <td>...</td>\n",
       "      <td>...</td>\n",
       "    </tr>\n",
       "    <tr>\n",
       "      <th>26994</th>\n",
       "      <td>24.995265</td>\n",
       "      <td>1</td>\n",
       "      <td>0</td>\n",
       "      <td>31.0</td>\n",
       "    </tr>\n",
       "    <tr>\n",
       "      <th>26995</th>\n",
       "      <td>73.906800</td>\n",
       "      <td>0</td>\n",
       "      <td>1</td>\n",
       "      <td>9.9</td>\n",
       "    </tr>\n",
       "    <tr>\n",
       "      <th>26996</th>\n",
       "      <td>62.341729</td>\n",
       "      <td>0</td>\n",
       "      <td>0</td>\n",
       "      <td>31.0</td>\n",
       "    </tr>\n",
       "    <tr>\n",
       "      <th>26997</th>\n",
       "      <td>35.031897</td>\n",
       "      <td>0</td>\n",
       "      <td>0</td>\n",
       "      <td>9.9</td>\n",
       "    </tr>\n",
       "    <tr>\n",
       "      <th>26998</th>\n",
       "      <td>30.483173</td>\n",
       "      <td>0</td>\n",
       "      <td>0</td>\n",
       "      <td>9.9</td>\n",
       "    </tr>\n",
       "  </tbody>\n",
       "</table>\n",
       "<p>19554 rows × 4 columns</p>\n",
       "</div>"
      ],
      "text/plain": [
       "       beach_name_encoded  sample_location_Left  sample_location_Center  \\\n",
       "0               71.724390                     1                       0   \n",
       "1               71.724390                     0                       0   \n",
       "2               71.724390                     0                       1   \n",
       "3               71.724390                     0                       0   \n",
       "4              120.912515                     0                       0   \n",
       "...                   ...                   ...                     ...   \n",
       "26994           24.995265                     1                       0   \n",
       "26995           73.906800                     0                       1   \n",
       "26996           62.341729                     0                       0   \n",
       "26997           35.031897                     0                       0   \n",
       "26998           30.483173                     0                       0   \n",
       "\n",
       "       enterococci_results(MPN/100 ml)  \n",
       "0                                  9.9  \n",
       "1                                 10.0  \n",
       "2                                 10.0  \n",
       "3                                 74.0  \n",
       "4                                158.0  \n",
       "...                                ...  \n",
       "26994                             31.0  \n",
       "26995                              9.9  \n",
       "26996                             31.0  \n",
       "26997                              9.9  \n",
       "26998                              9.9  \n",
       "\n",
       "[19554 rows x 4 columns]"
      ]
     },
     "execution_count": 20,
     "metadata": {},
     "output_type": "execute_result"
    }
   ],
   "source": [
    "# Final dataset for modeling\n",
    "df"
   ]
  },
  {
   "cell_type": "code",
   "execution_count": 21,
   "metadata": {},
   "outputs": [],
   "source": [
    "X = df.drop(columns=['enterococci_results(MPN/100 ml)'])\n",
    "y = df['enterococci_results(MPN/100 ml)'] \n",
    "\n",
    "X_train, X_test, y_train, y_test = train_test_split(X, y, test_size=0.3, random_state=42)"
   ]
  },
  {
   "cell_type": "code",
   "execution_count": 22,
   "metadata": {},
   "outputs": [],
   "source": [
    "rf_regressor = RandomForestRegressor()\n",
    "rf_regressor.fit(X_train, y_train)\n",
    "\n",
    "y_pred = rf_regressor.predict(X_test)"
   ]
  },
  {
   "cell_type": "code",
   "execution_count": 23,
   "metadata": {},
   "outputs": [
    {
     "name": "stdout",
     "output_type": "stream",
     "text": [
      "345.1706\n",
      "108.6698\n",
      "-0.0008\n"
     ]
    }
   ],
   "source": [
    "print(round(np.sqrt(mean_squared_error(y_test, y_pred)),4))\n",
    "print(round(mean_absolute_error(y_test, y_pred),4))\n",
    "print(round(r2_score(y_test, y_pred),4))"
   ]
  },
  {
   "cell_type": "code",
   "execution_count": 24,
   "metadata": {},
   "outputs": [],
   "source": [
    "from sklearn.model_selection import GridSearchCV\n",
    "\n",
    "param_grid = {\n",
    "    'n_estimators': [50,100],\n",
    "    'max_features': ['auto', 'sqrt'],\n",
    "    'max_depth': [40, 50, None],\n",
    "    'min_samples_split': [2, 5],\n",
    "    'min_samples_leaf': [1, 2],\n",
    "    'max_leaf_nodes': [None, 10, 20],\n",
    "    'max_samples': [None, 0.5]\n",
    "}\n",
    "\n",
    "rf = RandomForestRegressor()\n",
    "\n",
    "grid_search = GridSearchCV(estimator=rf, param_grid=param_grid, cv=5, n_jobs=-1)\n",
    "\n",
    "grid_search.fit(X_train, y_train)\n",
    "\n",
    "best_params = grid_search.best_params_"
   ]
  },
  {
   "cell_type": "code",
   "execution_count": 25,
   "metadata": {},
   "outputs": [
    {
     "data": {
      "text/plain": [
       "{'max_depth': None,\n",
       " 'max_features': 'sqrt',\n",
       " 'max_leaf_nodes': 10,\n",
       " 'max_samples': None,\n",
       " 'min_samples_leaf': 1,\n",
       " 'min_samples_split': 5,\n",
       " 'n_estimators': 50}"
      ]
     },
     "execution_count": 25,
     "metadata": {},
     "output_type": "execute_result"
    }
   ],
   "source": [
    "best_params"
   ]
  },
  {
   "cell_type": "code",
   "execution_count": 26,
   "metadata": {},
   "outputs": [],
   "source": [
    "# RandomForestRegressor with the best parameters\n",
    "best_rf = RandomForestRegressor(**best_params)\n",
    "best_rf.fit(X_train, y_train)\n",
    "\n",
    "y_pred = best_rf.predict(X_test)"
   ]
  },
  {
   "cell_type": "code",
   "execution_count": 27,
   "metadata": {},
   "outputs": [
    {
     "name": "stdout",
     "output_type": "stream",
     "text": [
      "344.005\n",
      "107.6693\n",
      "0.006\n"
     ]
    }
   ],
   "source": [
    "print(round(np.sqrt(mean_squared_error(y_test, y_pred)),4))\n",
    "print(round(mean_absolute_error(y_test, y_pred),4))\n",
    "print(round(r2_score(y_test, y_pred),4))"
   ]
  }
 ],
 "metadata": {
  "kernelspec": {
   "display_name": "Python 3",
   "language": "python",
   "name": "python3"
  },
  "language_info": {
   "codemirror_mode": {
    "name": "ipython",
    "version": 3
   },
   "file_extension": ".py",
   "mimetype": "text/x-python",
   "name": "python",
   "nbconvert_exporter": "python",
   "pygments_lexer": "ipython3",
   "version": "3.9.12"
  }
 },
 "nbformat": 4,
 "nbformat_minor": 2
}
